{
 "cells": [
  {
   "cell_type": "code",
   "execution_count": 3,
   "id": "056b3997",
   "metadata": {},
   "outputs": [
    {
     "name": "stdout",
     "output_type": "stream",
     "text": [
      "Enter x-coordinate: 1\n",
      "Enter y-coordinate: 1\n",
      "Polar coordinates: (r=1.41, Theta =45.00)\n"
     ]
    }
   ],
   "source": [
    "import numpy as np\n",
    "\n",
    "#defining the conversion from cart. to polar. \n",
    "def convert(x,y):\n",
    "    r = np.sqrt(x**2 + y**2) \n",
    "    #I used arctan2 instead of arctan because it allows us to take 2 input arrays instead of one. \n",
    "    theta = np.degrees(np.arctan2(y,x)) \n",
    "    return (r,theta)\n",
    "\n",
    "#allows us to input a number \n",
    "x = float(input('Enter x-coordinate: '))\n",
    "y = float(input('Enter y-coordinate: '))\n",
    "polar = convert(x,y)\n",
    "#using modulo operator to convert a float to a string. %.2f allows us to set the decimal place. The values from polar[0] & polar[1] replaces %.2f. \n",
    "print('Polar coordinates: (r=%.2f, Theta =%.2f)' % (polar[0], polar[1]))\n",
    "\n",
    "\n",
    "# In[10]:"
   ]
  },
  {
   "cell_type": "code",
   "execution_count": 4,
   "id": "3cd643a9",
   "metadata": {},
   "outputs": [
    {
     "name": "stdout",
     "output_type": "stream",
     "text": [
      "1.000211477279663 seconds\n",
      "Estimated floats:  22496804.0\n"
     ]
    }
   ],
   "source": []
  }
 ],
 "metadata": {
  "kernelspec": {
   "display_name": "Python 3 (ipykernel)",
   "language": "python",
   "name": "python3"
  },
  "language_info": {
   "codemirror_mode": {
    "name": "ipython",
    "version": 3
   },
   "file_extension": ".py",
   "mimetype": "text/x-python",
   "name": "python",
   "nbconvert_exporter": "python",
   "pygments_lexer": "ipython3",
   "version": "3.9.13"
  }
 },
 "nbformat": 4,
 "nbformat_minor": 5
}
