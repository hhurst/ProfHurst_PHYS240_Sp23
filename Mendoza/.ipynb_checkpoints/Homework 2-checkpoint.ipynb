{
 "cells": [
  {
   "cell_type": "code",
   "execution_count": null,
   "id": "8b033a32",
   "metadata": {},
   "outputs": [
    {
     "name": "stdout",
     "output_type": "stream",
     "text": [
      "Enter data points as x,y pairs\n"
     ]
    }
   ],
   "source": [
    "import numpy as np\n",
    "import matplotlib.pyplot as plt\n",
    "\n",
    "def intrpf(xi, x, y):\n",
    "    #equation for the interpolation polynomial evaluated at xi\n",
    "    yi = ((xi - x[1]) * (xi - x[2]) / ((x[0] - x[1]) * (x[0] - x[2])) * y[0] +\n",
    "          (xi - x[0]) * (xi - x[2]) / ((x[1] - x[0]) * (x[1] - x[2])) * y[1] +\n",
    "          (xi - x[0]) * (xi - x[1]) / ((x[2] - x[0]) * (x[2] - x[1])) * y[2])\n",
    "    \n",
    "    #the derviative of the interpolation polynomial\n",
    "    dydx = ((xi - x[1]) * (xi - x[2]) / ((x[0] - x[1]) * (x[0] - x[2])) * y[0] / (xi - x[1]) / (xi - x[2]) +\n",
    "            (xi - x[0]) * (xi - x[2]) / ((x[1] - x[0]) * (x[1] - x[2])) * y[1] / (xi - x[0]) / (xi - x[2]) +\n",
    "            (xi - x[0]) * (xi - x[1]) / ((x[2] - x[0]) * (x[2] - x[1])) * y[2] / (xi - x[0]) / (xi - x[1]))\n",
    "\n",
    "    return yi, dydx\n",
    "\n",
    "\n",
    "#gives an array of size 3 and provides data points to be fit by quadratic\n",
    "x = np.empty(3)\n",
    "y = np.empty(3)\n",
    "\n",
    "print('Enter data points as x,y pairs')\n",
    "\n",
    "#will iterate three times. \n",
    "for i in range(3):\n",
    "    temp = input('Enter data point (x,y): ').strip('[]')\n",
    "    #'map' returns an iterator that applies function to every item of iterable. map(function, iterable)\n",
    "    x[i], y[i] = map(float, temp.split(','))\n",
    "\n",
    "xr = input('Enter range of x values as x_min,x_max: ')\n",
    "x_min, x_max = map(float, xr.split(','))\n",
    "\n",
    "x_point = float(input('Enter the desired x point to evaluate the derivative: '))\n",
    "\n",
    "#number of points for interpolation curve\n",
    "nplot = 100\n",
    "\n",
    "xi = np.empty(nplot)\n",
    "yi = np.empty(nplot)\n",
    "dydx = np.empty(nplot)\n",
    "dydx = np.empty(nplot)\n",
    "for i in range(nplot):\n",
    "    xi[i] = x_max + (x_max - x_min) * i / float(nplot)\n",
    "    yi[i], dydx[i] = intrpf(xi[i], x, y)\n",
    "    \n",
    "# plot the interpolated function and its derivative\n",
    "fig, ax1 = plt.subplots()\n",
    "\n",
    "color = 'tab:red'\n",
    "ax1.set_xlabel('x')\n",
    "ax1.set_ylabel('y', color=color)\n",
    "ax1.plot(xi, yi, color=color)\n",
    "ax1.tick_params(axis='y', labelcolor=color)\n",
    "\n",
    "ax2 = ax1.twinx()\n",
    "\n",
    "color = 'tab:blue'\n",
    "ax2.set_ylabel('dy/dx', color=color)\n",
    "ax2.plot(xi, dydx, color=color)\n",
    "ax2.tick_params(axis='y', labelcolor=color)\n",
    "\n",
    "plt.show()"
   ]
  },
  {
   "cell_type": "code",
   "execution_count": 14,
   "id": "65b12c11",
   "metadata": {},
   "outputs": [
    {
     "name": "stdout",
     "output_type": "stream",
     "text": [
      "Result using integers: 2469135782469133\n",
      "Result using floats: 2533274790395904.0\n",
      "Result using algebraic re-expression: 2469135782469133.0\n"
     ]
    }
   ],
   "source": [
    "x = 1234567891234567\n",
    "y = 1234567891234566\n",
    "\n",
    "# Calculation using integers\n",
    "result_int = (x+y)*(x-y)\n",
    "print(\"Result using integers:\", result_int)\n",
    "\n",
    "# Calculation using floats\n",
    "x_float = 1234567891234567.0\n",
    "y_float = 1234567891234566.0\n",
    "result_float = x_float**2 - y_float**2\n",
    "print(\"Result using floats:\", result_float)\n",
    "\n",
    "# Calculation using re-expression\n",
    "s = x_float + y_float\n",
    "d = x_float - y_float\n",
    "res_alg = s * d\n",
    "print(\"Result using algebraic re-expression:\", res_alg)\n"
   ]
  }
 ],
 "metadata": {
  "kernelspec": {
   "display_name": "Python 3 (ipykernel)",
   "language": "python",
   "name": "python3"
  },
  "language_info": {
   "codemirror_mode": {
    "name": "ipython",
    "version": 3
   },
   "file_extension": ".py",
   "mimetype": "text/x-python",
   "name": "python",
   "nbconvert_exporter": "python",
   "pygments_lexer": "ipython3",
   "version": "3.9.13"
  }
 },
 "nbformat": 4,
 "nbformat_minor": 5
}
