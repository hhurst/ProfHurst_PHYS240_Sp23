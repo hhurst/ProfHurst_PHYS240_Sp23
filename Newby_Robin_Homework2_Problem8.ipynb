{
 "cells": [
  {
   "cell_type": "markdown",
   "metadata": {},
   "source": [
    "# Homework 2: Problem 11\n",
    "-Robin Newby"
   ]
  },
  {
   "cell_type": "markdown",
   "metadata": {},
   "source": [
    "## Part a)\n",
    "Write a recursive function to calculate the catalan numbers, which have definition\n",
    "$$ C_n=\\left\\{\n",
    "    \\begin{array}{rl}\n",
    "1&\\mbox{if }n=0\\\\\n",
    "\\frac{4n-2}{n+1} C_{n-1}&\\mbox{if }n>0\\\\\n",
    "\\end{array}\n",
    "\\right.\n",
    "$$\n",
    "\n",
    "Use the function to calculate and print $C_{100}$.\n"
   ]
  },
  {
   "cell_type": "code",
   "execution_count": 59,
   "metadata": {
    "collapsed": true
   },
   "outputs": [
    {
     "name": "stdout",
     "output_type": "stream",
     "text": [
      "The 100th catalan number is 8.965199470901317e+56.\n"
     ]
    }
   ],
   "source": [
    "import numpy as np\n",
    "\n",
    "def catalan(n):\n",
    "    if n ==1:\n",
    "        return 1\n",
    "    elif n > 1:\n",
    "        return (4*n-2)/(n+1)*catalan(n-1)\n",
    "    else:\n",
    "        raise ValueError(\"The catalan numbers are defined for non-negative integer n. The catalan function received {} as input\".format(n))\n",
    "\n",
    "print(\"The 100th catalan number is {}.\".format(catalan(100)))"
   ]
  },
  {
   "cell_type": "markdown",
   "metadata": {},
   "source": [
    "## Part b)\n",
    "The greatest common divisor $g(m,n)$ of two non-negative integers satisfies\n",
    "$$g(m,n)=\\left\\{\n",
    "    \\begin{array}{rl}\n",
    "m&\\mbox{if } n=0 \\\\\n",
    "g(n,m\\mbox{ mod }n)&\\mbox{if }n>0\\\\\n",
    "\\end{array}\n",
    "\\right.\n",
    "$$\n",
    "Write a Python function $g(m,n)$ that employs recursion to calculate the greatest common divisor using this formula.\n",
    "Finally, print the greatest common divisor of 108 and 192.\n"
   ]
  },
  {
   "cell_type": "code",
   "execution_count": 60,
   "metadata": {},
   "outputs": [
    {
     "name": "stdout",
     "output_type": "stream",
     "text": [
      "The greatest common divisor of 108 and 192 is 12.\n"
     ]
    }
   ],
   "source": [
    "def g(m,n):\n",
    "    if n ==0:\n",
    "        return m\n",
    "    elif n > 0:\n",
    "        return g(n, m % n)\n",
    "    else:\n",
    "        raise ValueError(\"greatest common divisor defined for positive integers m and n, received m={}, n={}\".format(m,n))\n",
    "\n",
    "print(\"The greatest common divisor of 108 and 192 is {}.\".format(g(108,192)))"
   ]
  }
 ],
 "metadata": {
  "kernelspec": {
   "display_name": "Python 3 (ipykernel)",
   "language": "python",
   "name": "python3"
  },
  "language_info": {
   "codemirror_mode": {
    "name": "ipython",
    "version": 3
   },
   "file_extension": ".py",
   "mimetype": "text/x-python",
   "name": "python",
   "nbconvert_exporter": "python",
   "pygments_lexer": "ipython3",
   "version": "3.9.12"
  }
 },
 "nbformat": 4,
 "nbformat_minor": 1
}
