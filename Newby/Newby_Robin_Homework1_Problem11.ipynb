{
 "cells": [
  {
   "cell_type": "markdown",
   "metadata": {},
   "source": [
    "Homework 1\n",
    "I had a few issues with version control that I seemingly resolved by deleting files that managed a local workspace from the github repository. I also noticed a small bug that incorrectly set the value of a5 somewhat far into the project, but I'm just glad I spotted it. I think my code should be somewhat readable, as I went for a final pass through it to make things a little clearer.\n",
    "\n",
    "Problem 11 a)"
   ]
  },
  {
   "cell_type": "code",
   "execution_count": 1,
   "metadata": {
    "collapsed": true
   },
   "outputs": [
    {
     "name": "stdout",
     "output_type": "stream",
     "text": [
      "493.94 MeV\n"
     ]
    }
   ],
   "source": [
    "import numpy as np\n",
    "def BindingEnergy(Z,A):\n",
    "    a1=15.67 #MeV\n",
    "    a2=17.23 #MeV\n",
    "    a3=0.75 #MeV\n",
    "    a4=93.2 #MeV\n",
    "    if(A % 2): #if A is odd\n",
    "        a5=0 #MeV\n",
    "    elif(Z % 2): #if A is even but Z is odd\n",
    "        a5=-12 #MeV\n",
    "    else: #if A and Z are both even\n",
    "        a5=12 #MeV\n",
    "\n",
    "\n",
    "    B = a1*A - a2* (A**(2/3)) -a3*(Z**2)/(A**(1/3))-(a4*(A-2*Z)**2)/A + a5/(A**(1/2))\n",
    "    return B\n",
    "testIsotopeBindingEnergy=BindingEnergy(A=58,Z=28)\n",
    "print(\"{0:.2f} MeV\".format(testIsotopeBindingEnergy))"
   ]
  },
  {
   "cell_type": "markdown",
   "metadata": {},
   "source": [
    "This number is close to the expected 490MeV\n",
    "I will now begin part b, creating a function to find the binding energy per nucleon.\n",
    "\n",
    "Problem 11 b)"
   ]
  },
  {
   "cell_type": "code",
   "execution_count": 2,
   "metadata": {},
   "outputs": [
    {
     "name": "stdout",
     "output_type": "stream",
     "text": [
      "8.52 MeV per Nucleon\n"
     ]
    }
   ],
   "source": [
    "def BindingEnergyPerNucleon(Z,A):\n",
    "    BN = BindingEnergy(Z=Z,A=A)/A\n",
    "    return BN\n",
    "testIsotopeBindingEnergyPerNucleon=BindingEnergyPerNucleon(A=58,Z=28)\n",
    "print(\"{0:.2f} MeV per Nucleon\".format(testIsotopeBindingEnergyPerNucleon))"
   ]
  },
  {
   "cell_type": "markdown",
   "metadata": {},
   "source": [
    "The program finds the binding energy per nucleon now, as expected.\n",
    "\n",
    "Problem 11 c)"
   ]
  },
  {
   "cell_type": "code",
   "execution_count": 3,
   "metadata": {},
   "outputs": [
    {
     "name": "stdout",
     "output_type": "stream",
     "text": [
      "Stablest isotope (A) for element 26 is 54, with binding energy per nucleon 8.52992\n"
     ]
    }
   ],
   "source": [
    "def FindStablest(Z):\n",
    "    #initialize variables\n",
    "    stablestIsotope=Z\n",
    "    stablestBindingEnergy=-np.inf\n",
    "    for zIsotope in range(Z,3*Z,1): #loop through isotopes of given element\n",
    "        testEnergy=BindingEnergyPerNucleon(Z=Z,A=zIsotope)\n",
    "\n",
    "        if testEnergy > stablestBindingEnergy:\n",
    "            #if the binding energy is the largest seen so far, save it and save the isotope\n",
    "            stablestIsotope=zIsotope\n",
    "            stablestBindingEnergy=testEnergy\n",
    "\n",
    "    return stablestIsotope,stablestBindingEnergy\n",
    "\n",
    "thisZ=26\n",
    "thisA,thisEnergy=FindStablest(thisZ)\n",
    "print(\"Stablest isotope (A) for element {2} is {0}, with binding energy per nucleon {1:.5f}\".format(thisA,thisEnergy,thisZ))\n",
    "\n"
   ]
  },
  {
   "cell_type": "markdown",
   "metadata": {},
   "source": [
    "Function returns the stablest isotope A for the given Z, as well as its binding energy per nucleon.\n",
    "The numbers seem a bit off, which is slightly unsettling, but should be expected due to the approximate nature of the formula.\n",
    "\n",
    "Part d)"
   ]
  },
  {
   "cell_type": "code",
   "execution_count": 4,
   "metadata": {},
   "outputs": [
    {
     "name": "stdout",
     "output_type": "stream",
     "text": [
      "Element 1: Mass (A) = 2 with binding energy per nucleon -2.54574 MeV\n",
      "Element 2: Mass (A) = 4 with binding energy per nucleon 5.84331 MeV\n",
      "Element 3: Mass (A) = 6 with binding energy per nucleon 4.75236 MeV\n",
      "Element 4: Mass (A) = 8 with binding energy per nucleon 6.83533 MeV\n",
      "Element 5: Mass (A) = 10 with binding energy per nucleon 6.42277 MeV\n",
      "Element 6: Mass (A) = 12 with binding energy per nucleon 7.45000 MeV\n",
      "Element 7: Mass (A) = 15 with binding energy per nucleon 7.27593 MeV\n",
      "Element 8: Mass (A) = 16 with binding energy per nucleon 7.82922 MeV\n",
      "Element 9: Mass (A) = 19 with binding energy per nucleon 7.75655 MeV\n",
      "Element 10: Mass (A) = 20 with binding energy per nucleon 8.07507 MeV\n",
      "Element 11: Mass (A) = 23 with binding energy per nucleon 8.04774 MeV\n",
      "Element 12: Mass (A) = 24 with binding energy per nucleon 8.23869 MeV\n",
      "Element 13: Mass (A) = 27 with binding energy per nucleon 8.23401 MeV\n",
      "Element 14: Mass (A) = 28 with binding energy per nucleon 8.34795 MeV\n",
      "Element 15: Mass (A) = 31 with binding energy per nucleon 8.35532 MeV\n",
      "Element 16: Mass (A) = 32 with binding energy per nucleon 8.41930 MeV\n",
      "Element 17: Mass (A) = 35 with binding energy per nucleon 8.43330 MeV\n",
      "Element 18: Mass (A) = 36 with binding energy per nucleon 8.46313 MeV\n",
      "Element 19: Mass (A) = 39 with binding energy per nucleon 8.48080 MeV\n",
      "Element 20: Mass (A) = 41 with binding energy per nucleon 8.49578 MeV\n",
      "Element 21: Mass (A) = 43 with binding energy per nucleon 8.50597 MeV\n",
      "Element 22: Mass (A) = 46 with binding energy per nucleon 8.52113 MeV\n",
      "Element 23: Mass (A) = 47 with binding energy per nucleon 8.51428 MeV\n",
      "Element 24: Mass (A) = 50 with binding energy per nucleon 8.53262 MeV\n",
      "Element 25: Mass (A) = 51 with binding energy per nucleon 8.50954 MeV\n",
      "Element 26: Mass (A) = 54 with binding energy per nucleon 8.52992 MeV\n",
      "Element 27: Mass (A) = 55 with binding energy per nucleon 8.49450 MeV\n",
      "Element 28: Mass (A) = 58 with binding energy per nucleon 8.51613 MeV\n",
      "Element 29: Mass (A) = 59 with binding energy per nucleon 8.47120 MeV\n",
      "Element 30: Mass (A) = 62 with binding energy per nucleon 8.49354 MeV\n",
      "Element 31: Mass (A) = 63 with binding energy per nucleon 8.44117 MeV\n",
      "Element 32: Mass (A) = 66 with binding energy per nucleon 8.46385 MeV\n",
      "Element 33: Mass (A) = 69 with binding energy per nucleon 8.40702 MeV\n",
      "Element 34: Mass (A) = 70 with binding energy per nucleon 8.42837 MeV\n",
      "Element 35: Mass (A) = 73 with binding energy per nucleon 8.37855 MeV\n",
      "Element 36: Mass (A) = 74 with binding energy per nucleon 8.38811 MeV\n",
      "Element 37: Mass (A) = 77 with binding energy per nucleon 8.34420 MeV\n",
      "Element 38: Mass (A) = 78 with binding energy per nucleon 8.34388 MeV\n",
      "Element 39: Mass (A) = 81 with binding energy per nucleon 8.30500 MeV\n",
      "Element 40: Mass (A) = 82 with binding energy per nucleon 8.29632 MeV\n",
      "Element 41: Mass (A) = 85 with binding energy per nucleon 8.26175 MeV\n",
      "Element 42: Mass (A) = 86 with binding energy per nucleon 8.24595 MeV\n",
      "Element 43: Mass (A) = 89 with binding energy per nucleon 8.21509 MeV\n",
      "Element 44: Mass (A) = 92 with binding energy per nucleon 8.19461 MeV\n",
      "Element 45: Mass (A) = 93 with binding energy per nucleon 8.16556 MeV\n",
      "Element 46: Mass (A) = 96 with binding energy per nucleon 8.14766 MeV\n",
      "Element 47: Mass (A) = 97 with binding energy per nucleon 8.11358 MeV\n",
      "Element 48: Mass (A) = 100 with binding energy per nucleon 8.09793 MeV\n",
      "Element 49: Mass (A) = 101 with binding energy per nucleon 8.05951 MeV\n",
      "Element 50: Mass (A) = 104 with binding energy per nucleon 8.04582 MeV\n",
      "Element 51: Mass (A) = 105 with binding energy per nucleon 8.00365 MeV\n",
      "Element 52: Mass (A) = 108 with binding energy per nucleon 7.99169 MeV\n",
      "Element 53: Mass (A) = 111 with binding energy per nucleon 7.94645 MeV\n",
      "Element 54: Mass (A) = 112 with binding energy per nucleon 7.93581 MeV\n",
      "Element 55: Mass (A) = 115 with binding energy per nucleon 7.89384 MeV\n",
      "Element 56: Mass (A) = 116 with binding energy per nucleon 7.87843 MeV\n",
      "Element 57: Mass (A) = 119 with binding energy per nucleon 7.83941 MeV\n",
      "Element 58: Mass (A) = 120 with binding energy per nucleon 7.81975 MeV\n",
      "Element 59: Mass (A) = 123 with binding energy per nucleon 7.78341 MeV\n",
      "Element 60: Mass (A) = 124 with binding energy per nucleon 7.75996 MeV\n",
      "Element 61: Mass (A) = 127 with binding energy per nucleon 7.72604 MeV\n",
      "Element 62: Mass (A) = 130 with binding energy per nucleon 7.70055 MeV\n",
      "Element 63: Mass (A) = 131 with binding energy per nucleon 7.66748 MeV\n",
      "Element 64: Mass (A) = 134 with binding energy per nucleon 7.64379 MeV\n",
      "Element 65: Mass (A) = 135 with binding energy per nucleon 7.60789 MeV\n",
      "Element 66: Mass (A) = 138 with binding energy per nucleon 7.58584 MeV\n",
      "Element 67: Mass (A) = 139 with binding energy per nucleon 7.54740 MeV\n",
      "Element 68: Mass (A) = 142 with binding energy per nucleon 7.52685 MeV\n",
      "Element 69: Mass (A) = 143 with binding energy per nucleon 7.48612 MeV\n",
      "Element 70: Mass (A) = 146 with binding energy per nucleon 7.46696 MeV\n",
      "Element 71: Mass (A) = 149 with binding energy per nucleon 7.42799 MeV\n",
      "Element 72: Mass (A) = 150 with binding energy per nucleon 7.40627 MeV\n",
      "Element 73: Mass (A) = 153 with binding energy per nucleon 7.36933 MeV\n",
      "Element 74: Mass (A) = 154 with binding energy per nucleon 7.34489 MeV\n",
      "Element 75: Mass (A) = 157 with binding energy per nucleon 7.30983 MeV\n",
      "Element 76: Mass (A) = 158 with binding energy per nucleon 7.28290 MeV\n",
      "Element 77: Mass (A) = 161 with binding energy per nucleon 7.24960 MeV\n",
      "Element 78: Mass (A) = 164 with binding energy per nucleon 7.22310 MeV\n",
      "Element 79: Mass (A) = 165 with binding energy per nucleon 7.18871 MeV\n",
      "Element 80: Mass (A) = 168 with binding energy per nucleon 7.16358 MeV\n",
      "Element 81: Mass (A) = 169 with binding energy per nucleon 7.12726 MeV\n",
      "Element 82: Mass (A) = 172 with binding energy per nucleon 7.10339 MeV\n",
      "Element 83: Mass (A) = 173 with binding energy per nucleon 7.06530 MeV\n",
      "Element 84: Mass (A) = 176 with binding energy per nucleon 7.04262 MeV\n",
      "Element 85: Mass (A) = 179 with binding energy per nucleon 7.00562 MeV\n",
      "Element 86: Mass (A) = 180 with binding energy per nucleon 6.98134 MeV\n",
      "Element 87: Mass (A) = 183 with binding energy per nucleon 6.94590 MeV\n",
      "Element 88: Mass (A) = 184 with binding energy per nucleon 6.91960 MeV\n",
      "Element 89: Mass (A) = 187 with binding energy per nucleon 6.88563 MeV\n",
      "Element 90: Mass (A) = 190 with binding energy per nucleon 6.85761 MeV\n",
      "Element 91: Mass (A) = 191 with binding energy per nucleon 6.82488 MeV\n",
      "Element 92: Mass (A) = 194 with binding energy per nucleon 6.79803 MeV\n",
      "Element 93: Mass (A) = 195 with binding energy per nucleon 6.76370 MeV\n",
      "Element 94: Mass (A) = 198 with binding energy per nucleon 6.73796 MeV\n",
      "Element 95: Mass (A) = 199 with binding energy per nucleon 6.70215 MeV\n",
      "Element 96: Mass (A) = 202 with binding energy per nucleon 6.67745 MeV\n",
      "Element 97: Mass (A) = 205 with binding energy per nucleon 6.64149 MeV\n",
      "Element 98: Mass (A) = 206 with binding energy per nucleon 6.61655 MeV\n",
      "Element 99: Mass (A) = 209 with binding energy per nucleon 6.58188 MeV\n",
      "Element 100: Mass (A) = 210 with binding energy per nucleon 6.55531 MeV\n",
      "Stablest element is Z=24, isotope A=50 with binding energy per nucleon 8.533 MeV\n"
     ]
    }
   ],
   "source": [
    "def FindStablestIsotopes():\n",
    "    stablestA=1\n",
    "    bindingEnergyPerNucleon=0\n",
    "    bindingEnergyValues=np.zeros((100))\n",
    "    ElementNumbers=range(1,101)\n",
    "    for Z in ElementNumbers: #loop through elements\n",
    "        stablestA, bindingEnergyPerNucleon=FindStablest(Z) # initialize the variables that will hold the stablest isotope info\n",
    "        print(\"Element {}: Mass (A) = {} with binding energy per nucleon {:.5f} MeV\".format(Z,stablestA, bindingEnergyPerNucleon))\n",
    "        bindingEnergyValues[Z-1]=bindingEnergyPerNucleon #save the stablest isotope for a given element\n",
    "\n",
    "    #after the loop, look for the stablest element in the saved list,then report a summary of its properties\n",
    "    stablestZ=ElementNumbers[np.argmax(bindingEnergyValues)]\n",
    "    energyPerNucleonOfStablestElement=np.max(bindingEnergyValues)\n",
    "    print(\"Stablest element is Z={0}, isotope A={1} with binding energy per nucleon {2:.3f} MeV\".format(stablestZ,FindStablest(stablestZ)[0],energyPerNucleonOfStablestElement))\n",
    "\n",
    "FindStablestIsotopes()"
   ]
  },
  {
   "cell_type": "markdown",
   "metadata": {},
   "source": [
    "Returns Z= 24 rather than the true value of 28. Still, not too far off.\n"
   ]
  }
 ],
 "metadata": {
  "kernelspec": {
   "display_name": "Python 3 (ipykernel)",
   "language": "python",
   "name": "python3"
  },
  "language_info": {
   "codemirror_mode": {
    "name": "ipython",
    "version": 3
   },
   "file_extension": ".py",
   "mimetype": "text/x-python",
   "name": "python",
   "nbconvert_exporter": "python",
   "pygments_lexer": "ipython3",
   "version": "3.9.12"
  }
 },
 "nbformat": 4,
 "nbformat_minor": 1
}
